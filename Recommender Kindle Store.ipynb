{
 "cells": [
  {
   "cell_type": "markdown",
   "metadata": {},
   "source": [
    "# Data Preprocessing #"
   ]
  },
  {
   "cell_type": "code",
   "execution_count": 1,
   "metadata": {},
   "outputs": [],
   "source": [
    "import gzip\n",
    "import pandas as pd"
   ]
  },
  {
   "cell_type": "code",
   "execution_count": 2,
   "metadata": {},
   "outputs": [],
   "source": [
    "data = []\n",
    "with open('./Downloads/Github/Kindle_Store.txt') as f:\n",
    "    for l in f:\n",
    "        data.append(l.strip())"
   ]
  },
  {
   "cell_type": "code",
   "execution_count": 3,
   "metadata": {},
   "outputs": [],
   "source": [
    "filter_data = filter(lambda x: x != \"\", data)"
   ]
  },
  {
   "cell_type": "code",
   "execution_count": 4,
   "metadata": {},
   "outputs": [],
   "source": [
    "filter_data=list(filter_data)"
   ]
  },
  {
   "cell_type": "code",
   "execution_count": 5,
   "metadata": {},
   "outputs": [],
   "source": [
    "dic={i.split(':')[0]:[] for i in filter_data}\n",
    "for l in filter_data:\n",
    "    dic[l.split(':')[0]].append(l.split(':')[1])"
   ]
  },
  {
   "cell_type": "code",
   "execution_count": 6,
   "metadata": {},
   "outputs": [],
   "source": [
    "df=pd.DataFrame.from_dict(dic)"
   ]
  },
  {
   "cell_type": "code",
   "execution_count": 7,
   "metadata": {},
   "outputs": [],
   "source": [
    "for i in df.columns:\n",
    "    df[i]=df[i].apply(str.strip)"
   ]
  },
  {
   "cell_type": "code",
   "execution_count": 8,
   "metadata": {},
   "outputs": [],
   "source": [
    "dic={}\n",
    "for i in df.columns:\n",
    "    dic[i]=i.split('/')[1]"
   ]
  },
  {
   "cell_type": "code",
   "execution_count": 9,
   "metadata": {},
   "outputs": [],
   "source": [
    "df.rename(columns=dic,inplace=True)"
   ]
  },
  {
   "cell_type": "code",
   "execution_count": 10,
   "metadata": {},
   "outputs": [
    {
     "data": {
      "text/html": [
       "<div>\n",
       "<style scoped>\n",
       "    .dataframe tbody tr th:only-of-type {\n",
       "        vertical-align: middle;\n",
       "    }\n",
       "\n",
       "    .dataframe tbody tr th {\n",
       "        vertical-align: top;\n",
       "    }\n",
       "\n",
       "    .dataframe thead th {\n",
       "        text-align: right;\n",
       "    }\n",
       "</style>\n",
       "<table border=\"1\" class=\"dataframe\">\n",
       "  <thead>\n",
       "    <tr style=\"text-align: right;\">\n",
       "      <th></th>\n",
       "      <th>productId</th>\n",
       "      <th>title</th>\n",
       "      <th>price</th>\n",
       "      <th>userId</th>\n",
       "      <th>profileName</th>\n",
       "      <th>helpfulness</th>\n",
       "      <th>score</th>\n",
       "      <th>time</th>\n",
       "      <th>summary</th>\n",
       "      <th>text</th>\n",
       "    </tr>\n",
       "  </thead>\n",
       "  <tbody>\n",
       "    <tr>\n",
       "      <th>0</th>\n",
       "      <td>B000FBFH7K</td>\n",
       "      <td>Self-Knowledge and the Self</td>\n",
       "      <td>unknown</td>\n",
       "      <td>A3VPRWEPH6C823</td>\n",
       "      <td>Yuri Kuzyk</td>\n",
       "      <td>4/4</td>\n",
       "      <td>5.0</td>\n",
       "      <td>1026172800</td>\n",
       "      <td>An up to date overview...</td>\n",
       "      <td>Jopling does an admirable job of tackling the ...</td>\n",
       "    </tr>\n",
       "    <tr>\n",
       "      <th>1</th>\n",
       "      <td>B000OI0QDO</td>\n",
       "      <td>Russian Messianism (Routledge Advances in Euro...</td>\n",
       "      <td>unknown</td>\n",
       "      <td>ABDE6L94T5H8R</td>\n",
       "      <td>Andreas Umland \"SPPS\"</td>\n",
       "      <td>5/7</td>\n",
       "      <td>5.0</td>\n",
       "      <td>1009670400</td>\n",
       "      <td>Varieties of Russian Messianism Explored</td>\n",
       "      <td>In this dense, highly informative study Peter ...</td>\n",
       "    </tr>\n",
       "    <tr>\n",
       "      <th>2</th>\n",
       "      <td>B000OI0QFW</td>\n",
       "      <td>Against Politics (Routledge Studies in Social ...</td>\n",
       "      <td>unknown</td>\n",
       "      <td>A2SOHLD70OSUCB</td>\n",
       "      <td>\"zacharym87\"</td>\n",
       "      <td>17/17</td>\n",
       "      <td>4.0</td>\n",
       "      <td>960422400</td>\n",
       "      <td>The case against the state</td>\n",
       "      <td>De Jasay's book does an excellent job punctuat...</td>\n",
       "    </tr>\n",
       "    <tr>\n",
       "      <th>3</th>\n",
       "      <td>B000OI0QFM</td>\n",
       "      <td>Polish Solidarity Movement (Routledge Studies ...</td>\n",
       "      <td>unknown</td>\n",
       "      <td>unknown</td>\n",
       "      <td>unknown</td>\n",
       "      <td>2/2</td>\n",
       "      <td>3.0</td>\n",
       "      <td>909273600</td>\n",
       "      <td>For poly-sci majors only</td>\n",
       "      <td>Scholarly to the extreme, this book assumes kn...</td>\n",
       "    </tr>\n",
       "    <tr>\n",
       "      <th>4</th>\n",
       "      <td>B000FBFHES</td>\n",
       "      <td>Landmarks in Linguistic Thought Volume III</td>\n",
       "      <td>unknown</td>\n",
       "      <td>AO3BAW8YSYFLW</td>\n",
       "      <td>Thomas Emerson</td>\n",
       "      <td>9/10</td>\n",
       "      <td>5.0</td>\n",
       "      <td>1052697600</td>\n",
       "      <td>Excellent overview of traditional Arabic lingu...</td>\n",
       "      <td>Versteegh provides a thorough and very readabl...</td>\n",
       "    </tr>\n",
       "  </tbody>\n",
       "</table>\n",
       "</div>"
      ],
      "text/plain": [
       "    productId                                              title    price  \\\n",
       "0  B000FBFH7K                        Self-Knowledge and the Self  unknown   \n",
       "1  B000OI0QDO  Russian Messianism (Routledge Advances in Euro...  unknown   \n",
       "2  B000OI0QFW  Against Politics (Routledge Studies in Social ...  unknown   \n",
       "3  B000OI0QFM  Polish Solidarity Movement (Routledge Studies ...  unknown   \n",
       "4  B000FBFHES         Landmarks in Linguistic Thought Volume III  unknown   \n",
       "\n",
       "           userId            profileName helpfulness score        time  \\\n",
       "0  A3VPRWEPH6C823             Yuri Kuzyk         4/4   5.0  1026172800   \n",
       "1   ABDE6L94T5H8R  Andreas Umland \"SPPS\"         5/7   5.0  1009670400   \n",
       "2  A2SOHLD70OSUCB           \"zacharym87\"       17/17   4.0   960422400   \n",
       "3         unknown                unknown         2/2   3.0   909273600   \n",
       "4   AO3BAW8YSYFLW         Thomas Emerson        9/10   5.0  1052697600   \n",
       "\n",
       "                                             summary  \\\n",
       "0                          An up to date overview...   \n",
       "1           Varieties of Russian Messianism Explored   \n",
       "2                         The case against the state   \n",
       "3                           For poly-sci majors only   \n",
       "4  Excellent overview of traditional Arabic lingu...   \n",
       "\n",
       "                                                text  \n",
       "0  Jopling does an admirable job of tackling the ...  \n",
       "1  In this dense, highly informative study Peter ...  \n",
       "2  De Jasay's book does an excellent job punctuat...  \n",
       "3  Scholarly to the extreme, this book assumes kn...  \n",
       "4  Versteegh provides a thorough and very readabl...  "
      ]
     },
     "execution_count": 10,
     "metadata": {},
     "output_type": "execute_result"
    }
   ],
   "source": [
    "df.head()"
   ]
  },
  {
   "cell_type": "code",
   "execution_count": 11,
   "metadata": {},
   "outputs": [],
   "source": [
    "df=df[df['userId']!='unknown']"
   ]
  },
  {
   "cell_type": "code",
   "execution_count": 12,
   "metadata": {},
   "outputs": [],
   "source": [
    "df['score']=df['score'].astype(float)"
   ]
  },
  {
   "cell_type": "code",
   "execution_count": 13,
   "metadata": {},
   "outputs": [
    {
     "data": {
      "text/html": [
       "<div>\n",
       "<style scoped>\n",
       "    .dataframe tbody tr th:only-of-type {\n",
       "        vertical-align: middle;\n",
       "    }\n",
       "\n",
       "    .dataframe tbody tr th {\n",
       "        vertical-align: top;\n",
       "    }\n",
       "\n",
       "    .dataframe thead th {\n",
       "        text-align: right;\n",
       "    }\n",
       "</style>\n",
       "<table border=\"1\" class=\"dataframe\">\n",
       "  <thead>\n",
       "    <tr style=\"text-align: right;\">\n",
       "      <th></th>\n",
       "      <th>productId</th>\n",
       "      <th>title</th>\n",
       "      <th>price</th>\n",
       "      <th>userId</th>\n",
       "      <th>profileName</th>\n",
       "      <th>helpfulness</th>\n",
       "      <th>score</th>\n",
       "      <th>time</th>\n",
       "      <th>summary</th>\n",
       "      <th>text</th>\n",
       "    </tr>\n",
       "  </thead>\n",
       "  <tbody>\n",
       "    <tr>\n",
       "      <th>0</th>\n",
       "      <td>B000FBFH7K</td>\n",
       "      <td>Self-Knowledge and the Self</td>\n",
       "      <td>unknown</td>\n",
       "      <td>A3VPRWEPH6C823</td>\n",
       "      <td>Yuri Kuzyk</td>\n",
       "      <td>4/4</td>\n",
       "      <td>5.0</td>\n",
       "      <td>1026172800</td>\n",
       "      <td>An up to date overview...</td>\n",
       "      <td>Jopling does an admirable job of tackling the ...</td>\n",
       "    </tr>\n",
       "    <tr>\n",
       "      <th>1</th>\n",
       "      <td>B000OI0QDO</td>\n",
       "      <td>Russian Messianism (Routledge Advances in Euro...</td>\n",
       "      <td>unknown</td>\n",
       "      <td>ABDE6L94T5H8R</td>\n",
       "      <td>Andreas Umland \"SPPS\"</td>\n",
       "      <td>5/7</td>\n",
       "      <td>5.0</td>\n",
       "      <td>1009670400</td>\n",
       "      <td>Varieties of Russian Messianism Explored</td>\n",
       "      <td>In this dense, highly informative study Peter ...</td>\n",
       "    </tr>\n",
       "    <tr>\n",
       "      <th>2</th>\n",
       "      <td>B000OI0QFW</td>\n",
       "      <td>Against Politics (Routledge Studies in Social ...</td>\n",
       "      <td>unknown</td>\n",
       "      <td>A2SOHLD70OSUCB</td>\n",
       "      <td>\"zacharym87\"</td>\n",
       "      <td>17/17</td>\n",
       "      <td>4.0</td>\n",
       "      <td>960422400</td>\n",
       "      <td>The case against the state</td>\n",
       "      <td>De Jasay's book does an excellent job punctuat...</td>\n",
       "    </tr>\n",
       "    <tr>\n",
       "      <th>4</th>\n",
       "      <td>B000FBFHES</td>\n",
       "      <td>Landmarks in Linguistic Thought Volume III</td>\n",
       "      <td>unknown</td>\n",
       "      <td>AO3BAW8YSYFLW</td>\n",
       "      <td>Thomas Emerson</td>\n",
       "      <td>9/10</td>\n",
       "      <td>5.0</td>\n",
       "      <td>1052697600</td>\n",
       "      <td>Excellent overview of traditional Arabic lingu...</td>\n",
       "      <td>Versteegh provides a thorough and very readabl...</td>\n",
       "    </tr>\n",
       "    <tr>\n",
       "      <th>5</th>\n",
       "      <td>B000OI0QJ8</td>\n",
       "      <td>Key Debates in Anthropology</td>\n",
       "      <td>unknown</td>\n",
       "      <td>AW91VDERXXKGT</td>\n",
       "      <td>Nessander</td>\n",
       "      <td>4/4</td>\n",
       "      <td>5.0</td>\n",
       "      <td>971308800</td>\n",
       "      <td>A fascinating read on the essence of anthropology</td>\n",
       "      <td>What is anthropology? What is society, culture...</td>\n",
       "    </tr>\n",
       "  </tbody>\n",
       "</table>\n",
       "</div>"
      ],
      "text/plain": [
       "    productId                                              title    price  \\\n",
       "0  B000FBFH7K                        Self-Knowledge and the Self  unknown   \n",
       "1  B000OI0QDO  Russian Messianism (Routledge Advances in Euro...  unknown   \n",
       "2  B000OI0QFW  Against Politics (Routledge Studies in Social ...  unknown   \n",
       "4  B000FBFHES         Landmarks in Linguistic Thought Volume III  unknown   \n",
       "5  B000OI0QJ8                        Key Debates in Anthropology  unknown   \n",
       "\n",
       "           userId            profileName helpfulness  score        time  \\\n",
       "0  A3VPRWEPH6C823             Yuri Kuzyk         4/4    5.0  1026172800   \n",
       "1   ABDE6L94T5H8R  Andreas Umland \"SPPS\"         5/7    5.0  1009670400   \n",
       "2  A2SOHLD70OSUCB           \"zacharym87\"       17/17    4.0   960422400   \n",
       "4   AO3BAW8YSYFLW         Thomas Emerson        9/10    5.0  1052697600   \n",
       "5   AW91VDERXXKGT              Nessander         4/4    5.0   971308800   \n",
       "\n",
       "                                             summary  \\\n",
       "0                          An up to date overview...   \n",
       "1           Varieties of Russian Messianism Explored   \n",
       "2                         The case against the state   \n",
       "4  Excellent overview of traditional Arabic lingu...   \n",
       "5  A fascinating read on the essence of anthropology   \n",
       "\n",
       "                                                text  \n",
       "0  Jopling does an admirable job of tackling the ...  \n",
       "1  In this dense, highly informative study Peter ...  \n",
       "2  De Jasay's book does an excellent job punctuat...  \n",
       "4  Versteegh provides a thorough and very readabl...  \n",
       "5  What is anthropology? What is society, culture...  "
      ]
     },
     "execution_count": 13,
     "metadata": {},
     "output_type": "execute_result"
    }
   ],
   "source": [
    "df.head()"
   ]
  },
  {
   "cell_type": "markdown",
   "metadata": {},
   "source": [
    "# Exploratory Data Analysis #"
   ]
  },
  {
   "cell_type": "code",
   "execution_count": 14,
   "metadata": {},
   "outputs": [
    {
     "data": {
      "text/html": [
       "<div>\n",
       "<style scoped>\n",
       "    .dataframe tbody tr th:only-of-type {\n",
       "        vertical-align: middle;\n",
       "    }\n",
       "\n",
       "    .dataframe tbody tr th {\n",
       "        vertical-align: top;\n",
       "    }\n",
       "\n",
       "    .dataframe thead th {\n",
       "        text-align: right;\n",
       "    }\n",
       "</style>\n",
       "<table border=\"1\" class=\"dataframe\">\n",
       "  <thead>\n",
       "    <tr style=\"text-align: right;\">\n",
       "      <th></th>\n",
       "      <th>score</th>\n",
       "    </tr>\n",
       "    <tr>\n",
       "      <th>title</th>\n",
       "      <th></th>\n",
       "    </tr>\n",
       "  </thead>\n",
       "  <tbody>\n",
       "    <tr>\n",
       "      <th>'Let us die that we may live'</th>\n",
       "      <td>5.0</td>\n",
       "    </tr>\n",
       "    <tr>\n",
       "      <th>Clinical Lymphatic Mapping in Gynecologic Cancers</th>\n",
       "      <td>5.0</td>\n",
       "    </tr>\n",
       "    <tr>\n",
       "      <th>Legitimacy and the European Union</th>\n",
       "      <td>5.0</td>\n",
       "    </tr>\n",
       "    <tr>\n",
       "      <th>Legacy of Soviet Dissent (BASEES/Routledge Series on Russian and East European Studies)</th>\n",
       "      <td>5.0</td>\n",
       "    </tr>\n",
       "    <tr>\n",
       "      <th>LeaderShock ...and How to Triumph Over It</th>\n",
       "      <td>5.0</td>\n",
       "    </tr>\n",
       "    <tr>\n",
       "      <th>...</th>\n",
       "      <td>...</td>\n",
       "    </tr>\n",
       "    <tr>\n",
       "      <th>Deepening Democracy</th>\n",
       "      <td>1.0</td>\n",
       "    </tr>\n",
       "    <tr>\n",
       "      <th>Scobleizer</th>\n",
       "      <td>1.0</td>\n",
       "    </tr>\n",
       "    <tr>\n",
       "      <th>Scanning Probe Microscopes</th>\n",
       "      <td>1.0</td>\n",
       "    </tr>\n",
       "    <tr>\n",
       "      <th>SECOND ED GENERAL THEORY V1 (Second Edition of the General Theory)</th>\n",
       "      <td>1.0</td>\n",
       "    </tr>\n",
       "    <tr>\n",
       "      <th>Competing Economic Theories</th>\n",
       "      <td>1.0</td>\n",
       "    </tr>\n",
       "  </tbody>\n",
       "</table>\n",
       "<p>4223 rows × 1 columns</p>\n",
       "</div>"
      ],
      "text/plain": [
       "                                                    score\n",
       "title                                                    \n",
       "'Let us die that we may live'                         5.0\n",
       "Clinical Lymphatic Mapping in Gynecologic Cancers     5.0\n",
       "Legitimacy and the European Union                     5.0\n",
       "Legacy of Soviet Dissent (BASEES/Routledge Seri...    5.0\n",
       "LeaderShock ...and How to Triumph Over It             5.0\n",
       "...                                                   ...\n",
       "Deepening Democracy                                   1.0\n",
       "Scobleizer                                            1.0\n",
       "Scanning Probe Microscopes                            1.0\n",
       "SECOND ED GENERAL THEORY V1 (Second Edition of ...    1.0\n",
       "Competing Economic Theories                           1.0\n",
       "\n",
       "[4223 rows x 1 columns]"
      ]
     },
     "execution_count": 14,
     "metadata": {},
     "output_type": "execute_result"
    }
   ],
   "source": [
    "df.groupby('title').mean().sort_values('score',ascending=False)"
   ]
  },
  {
   "cell_type": "code",
   "execution_count": 15,
   "metadata": {},
   "outputs": [],
   "source": [
    "ratings=pd.DataFrame(df.groupby('title').mean())"
   ]
  },
  {
   "cell_type": "code",
   "execution_count": 16,
   "metadata": {},
   "outputs": [],
   "source": [
    "ratings.rename(columns={'score':'Ratings'},inplace=True)"
   ]
  },
  {
   "cell_type": "code",
   "execution_count": 17,
   "metadata": {},
   "outputs": [
    {
     "data": {
      "text/html": [
       "<div>\n",
       "<style scoped>\n",
       "    .dataframe tbody tr th:only-of-type {\n",
       "        vertical-align: middle;\n",
       "    }\n",
       "\n",
       "    .dataframe tbody tr th {\n",
       "        vertical-align: top;\n",
       "    }\n",
       "\n",
       "    .dataframe thead th {\n",
       "        text-align: right;\n",
       "    }\n",
       "</style>\n",
       "<table border=\"1\" class=\"dataframe\">\n",
       "  <thead>\n",
       "    <tr style=\"text-align: right;\">\n",
       "      <th></th>\n",
       "      <th>score</th>\n",
       "    </tr>\n",
       "    <tr>\n",
       "      <th>title</th>\n",
       "      <th></th>\n",
       "    </tr>\n",
       "  </thead>\n",
       "  <tbody>\n",
       "    <tr>\n",
       "      <th>Kindle Wireless Reading Device, Free 3G, 6\" Display, White - 2nd Generation [Includes USB Cable for Charging. For International Shipment]</th>\n",
       "      <td>17612</td>\n",
       "    </tr>\n",
       "    <tr>\n",
       "      <th>Kindle</th>\n",
       "      <td>7911</td>\n",
       "    </tr>\n",
       "    <tr>\n",
       "      <th>The Secret</th>\n",
       "      <td>3070</td>\n",
       "    </tr>\n",
       "    <tr>\n",
       "      <th>Eat, Pray, Love</th>\n",
       "      <td>2963</td>\n",
       "    </tr>\n",
       "    <tr>\n",
       "      <th>The Road</th>\n",
       "      <td>2711</td>\n",
       "    </tr>\n",
       "    <tr>\n",
       "      <th>Three Cups of Tea</th>\n",
       "      <td>2679</td>\n",
       "    </tr>\n",
       "    <tr>\n",
       "      <th>Pride and Prejudice, Annotated (Enriched Classics)</th>\n",
       "      <td>1801</td>\n",
       "    </tr>\n",
       "    <tr>\n",
       "      <th>A New Earth (Oprah #61)</th>\n",
       "      <td>1779</td>\n",
       "    </tr>\n",
       "    <tr>\n",
       "      <th>Blink</th>\n",
       "      <td>1427</td>\n",
       "    </tr>\n",
       "    <tr>\n",
       "      <th>The Tipping Point</th>\n",
       "      <td>1291</td>\n",
       "    </tr>\n",
       "    <tr>\n",
       "      <th>Killing Floor (Jack Reacher, No. 1)</th>\n",
       "      <td>1084</td>\n",
       "    </tr>\n",
       "    <tr>\n",
       "      <th>A Christmas Carol (Bantam Classic)</th>\n",
       "      <td>957</td>\n",
       "    </tr>\n",
       "    <tr>\n",
       "      <th>A Christmas Carol [with Biographical Introduction]</th>\n",
       "      <td>957</td>\n",
       "    </tr>\n",
       "    <tr>\n",
       "      <th>Wuthering Heights (Enriched Classics)</th>\n",
       "      <td>868</td>\n",
       "    </tr>\n",
       "    <tr>\n",
       "      <th>Wuthering Heights [with Biographical Introduction]</th>\n",
       "      <td>868</td>\n",
       "    </tr>\n",
       "    <tr>\n",
       "      <th>Dark Lover (Black Dagger Brotherhood, Book 1)</th>\n",
       "      <td>833</td>\n",
       "    </tr>\n",
       "    <tr>\n",
       "      <th>Dreams from My Father</th>\n",
       "      <td>792</td>\n",
       "    </tr>\n",
       "    <tr>\n",
       "      <th>Sense and Sensibility</th>\n",
       "      <td>764</td>\n",
       "    </tr>\n",
       "    <tr>\n",
       "      <th>You</th>\n",
       "      <td>753</td>\n",
       "    </tr>\n",
       "    <tr>\n",
       "      <th>Palestine Peace Not Apartheid</th>\n",
       "      <td>750</td>\n",
       "    </tr>\n",
       "    <tr>\n",
       "      <th>Danse Macabre (Anita Blake, Vampire Hunter)</th>\n",
       "      <td>669</td>\n",
       "    </tr>\n",
       "    <tr>\n",
       "      <th>Gates of Fire</th>\n",
       "      <td>660</td>\n",
       "    </tr>\n",
       "    <tr>\n",
       "      <th>Dear John</th>\n",
       "      <td>660</td>\n",
       "    </tr>\n",
       "    <tr>\n",
       "      <th>Dude, Where's My Country?</th>\n",
       "      <td>633</td>\n",
       "    </tr>\n",
       "    <tr>\n",
       "      <th>Great Expectations (Enriched Classics)</th>\n",
       "      <td>631</td>\n",
       "    </tr>\n",
       "    <tr>\n",
       "      <th>The Picture of Dorian Gray [with Biographical Introduction] (Graphic Horror Set 2)</th>\n",
       "      <td>592</td>\n",
       "    </tr>\n",
       "    <tr>\n",
       "      <th>The Picture of Dorian Gray (Bantam Classics)</th>\n",
       "      <td>592</td>\n",
       "    </tr>\n",
       "    <tr>\n",
       "      <th>The New York Times</th>\n",
       "      <td>534</td>\n",
       "    </tr>\n",
       "    <tr>\n",
       "      <th>For One More Day</th>\n",
       "      <td>532</td>\n",
       "    </tr>\n",
       "    <tr>\n",
       "      <th>Lover Eternal (Black Dagger Brotherhood, Book 2)</th>\n",
       "      <td>497</td>\n",
       "    </tr>\n",
       "    <tr>\n",
       "      <th>Bitter is the New Black</th>\n",
       "      <td>488</td>\n",
       "    </tr>\n",
       "    <tr>\n",
       "      <th>Suite Francaise</th>\n",
       "      <td>466</td>\n",
       "    </tr>\n",
       "    <tr>\n",
       "      <th>The Wall Street Journal</th>\n",
       "      <td>451</td>\n",
       "    </tr>\n",
       "    <tr>\n",
       "      <th>A Whole New Mind</th>\n",
       "      <td>426</td>\n",
       "    </tr>\n",
       "    <tr>\n",
       "      <th>Emma</th>\n",
       "      <td>411</td>\n",
       "    </tr>\n",
       "    <tr>\n",
       "      <th>His Majesty's Dragon (Temeraire)</th>\n",
       "      <td>399</td>\n",
       "    </tr>\n",
       "    <tr>\n",
       "      <th>Persuasion</th>\n",
       "      <td>399</td>\n",
       "    </tr>\n",
       "    <tr>\n",
       "      <th>Einstein</th>\n",
       "      <td>389</td>\n",
       "    </tr>\n",
       "    <tr>\n",
       "      <th>Sense and Sensibility [with Biographical Introduction]</th>\n",
       "      <td>383</td>\n",
       "    </tr>\n",
       "    <tr>\n",
       "      <th>Sense and Sensibility (Bantam Classics)</th>\n",
       "      <td>382</td>\n",
       "    </tr>\n",
       "  </tbody>\n",
       "</table>\n",
       "</div>"
      ],
      "text/plain": [
       "                                                    score\n",
       "title                                                    \n",
       "Kindle Wireless Reading Device, Free 3G, 6\" Dis...  17612\n",
       "Kindle                                               7911\n",
       "The Secret                                           3070\n",
       "Eat, Pray, Love                                      2963\n",
       "The Road                                             2711\n",
       "Three Cups of Tea                                    2679\n",
       "Pride and Prejudice, Annotated (Enriched Classics)   1801\n",
       "A New Earth (Oprah #61)                              1779\n",
       "Blink                                                1427\n",
       "The Tipping Point                                    1291\n",
       "Killing Floor (Jack Reacher, No. 1)                  1084\n",
       "A Christmas Carol (Bantam Classic)                    957\n",
       "A Christmas Carol [with Biographical Introduction]    957\n",
       "Wuthering Heights (Enriched Classics)                 868\n",
       "Wuthering Heights [with Biographical Introduction]    868\n",
       "Dark Lover (Black Dagger Brotherhood, Book 1)         833\n",
       "Dreams from My Father                                 792\n",
       "Sense and Sensibility                                 764\n",
       "You                                                   753\n",
       "Palestine Peace Not Apartheid                         750\n",
       "Danse Macabre (Anita Blake, Vampire Hunter)           669\n",
       "Gates of Fire                                         660\n",
       "Dear John                                             660\n",
       "Dude, Where's My Country?                             633\n",
       "Great Expectations (Enriched Classics)                631\n",
       "The Picture of Dorian Gray [with Biographical I...    592\n",
       "The Picture of Dorian Gray (Bantam Classics)          592\n",
       "The New York Times                                    534\n",
       "For One More Day                                      532\n",
       "Lover Eternal (Black Dagger Brotherhood, Book 2)      497\n",
       "Bitter is the New Black                               488\n",
       "Suite Francaise                                       466\n",
       "The Wall Street Journal                               451\n",
       "A Whole New Mind                                      426\n",
       "Emma                                                  411\n",
       "His Majesty's Dragon (Temeraire)                      399\n",
       "Persuasion                                            399\n",
       "Einstein                                              389\n",
       "Sense and Sensibility [with Biographical Introd...    383\n",
       "Sense and Sensibility (Bantam Classics)               382"
      ]
     },
     "execution_count": 17,
     "metadata": {},
     "output_type": "execute_result"
    }
   ],
   "source": [
    "pd.DataFrame(df.groupby('title').count()['score'].sort_values(ascending=False)).head(40)"
   ]
  },
  {
   "cell_type": "code",
   "execution_count": 18,
   "metadata": {},
   "outputs": [],
   "source": [
    "ratings['No of Ratings']=pd.DataFrame(df.groupby('title').count()['score'])"
   ]
  },
  {
   "cell_type": "code",
   "execution_count": 19,
   "metadata": {},
   "outputs": [
    {
     "data": {
      "text/html": [
       "<div>\n",
       "<style scoped>\n",
       "    .dataframe tbody tr th:only-of-type {\n",
       "        vertical-align: middle;\n",
       "    }\n",
       "\n",
       "    .dataframe tbody tr th {\n",
       "        vertical-align: top;\n",
       "    }\n",
       "\n",
       "    .dataframe thead th {\n",
       "        text-align: right;\n",
       "    }\n",
       "</style>\n",
       "<table border=\"1\" class=\"dataframe\">\n",
       "  <thead>\n",
       "    <tr style=\"text-align: right;\">\n",
       "      <th></th>\n",
       "      <th>Ratings</th>\n",
       "      <th>No of Ratings</th>\n",
       "    </tr>\n",
       "    <tr>\n",
       "      <th>title</th>\n",
       "      <th></th>\n",
       "      <th></th>\n",
       "    </tr>\n",
       "  </thead>\n",
       "  <tbody>\n",
       "    <tr>\n",
       "      <th>'Let us die that we may live'</th>\n",
       "      <td>5.000000</td>\n",
       "      <td>2</td>\n",
       "    </tr>\n",
       "    <tr>\n",
       "      <th>1,001 Ways to Make More Money as a Speaker, Consultant or Trainer</th>\n",
       "      <td>3.600000</td>\n",
       "      <td>5</td>\n",
       "    </tr>\n",
       "    <tr>\n",
       "      <th>10 Conversations You Need to Have with Your Children</th>\n",
       "      <td>4.379310</td>\n",
       "      <td>29</td>\n",
       "    </tr>\n",
       "    <tr>\n",
       "      <th>10 Secrets to Successful Home Buying and Selling</th>\n",
       "      <td>5.000000</td>\n",
       "      <td>7</td>\n",
       "    </tr>\n",
       "    <tr>\n",
       "      <th>100 Bullshit Jobs...And How to Get Them</th>\n",
       "      <td>3.411765</td>\n",
       "      <td>17</td>\n",
       "    </tr>\n",
       "  </tbody>\n",
       "</table>\n",
       "</div>"
      ],
      "text/plain": [
       "                                                     Ratings  No of Ratings\n",
       "title                                                                      \n",
       "'Let us die that we may live'                       5.000000              2\n",
       "1,001 Ways to Make More Money as a Speaker, Con...  3.600000              5\n",
       "10 Conversations You Need to Have with Your Chi...  4.379310             29\n",
       "10 Secrets to Successful Home Buying and Selling    5.000000              7\n",
       "100 Bullshit Jobs...And How to Get Them             3.411765             17"
      ]
     },
     "execution_count": 19,
     "metadata": {},
     "output_type": "execute_result"
    }
   ],
   "source": [
    "ratings.head()"
   ]
  },
  {
   "cell_type": "code",
   "execution_count": 20,
   "metadata": {},
   "outputs": [
    {
     "data": {
      "text/html": [
       "<div>\n",
       "<style scoped>\n",
       "    .dataframe tbody tr th:only-of-type {\n",
       "        vertical-align: middle;\n",
       "    }\n",
       "\n",
       "    .dataframe tbody tr th {\n",
       "        vertical-align: top;\n",
       "    }\n",
       "\n",
       "    .dataframe thead th {\n",
       "        text-align: right;\n",
       "    }\n",
       "</style>\n",
       "<table border=\"1\" class=\"dataframe\">\n",
       "  <thead>\n",
       "    <tr style=\"text-align: right;\">\n",
       "      <th></th>\n",
       "      <th>Ratings</th>\n",
       "      <th>No of Ratings</th>\n",
       "    </tr>\n",
       "  </thead>\n",
       "  <tbody>\n",
       "    <tr>\n",
       "      <th>count</th>\n",
       "      <td>4223.000000</td>\n",
       "      <td>4223.000000</td>\n",
       "    </tr>\n",
       "    <tr>\n",
       "      <th>mean</th>\n",
       "      <td>4.046879</td>\n",
       "      <td>35.891309</td>\n",
       "    </tr>\n",
       "    <tr>\n",
       "      <th>std</th>\n",
       "      <td>0.815664</td>\n",
       "      <td>319.952138</td>\n",
       "    </tr>\n",
       "    <tr>\n",
       "      <th>min</th>\n",
       "      <td>1.000000</td>\n",
       "      <td>1.000000</td>\n",
       "    </tr>\n",
       "    <tr>\n",
       "      <th>25%</th>\n",
       "      <td>3.695652</td>\n",
       "      <td>2.000000</td>\n",
       "    </tr>\n",
       "    <tr>\n",
       "      <th>50%</th>\n",
       "      <td>4.125000</td>\n",
       "      <td>6.000000</td>\n",
       "    </tr>\n",
       "    <tr>\n",
       "      <th>75%</th>\n",
       "      <td>4.600000</td>\n",
       "      <td>23.000000</td>\n",
       "    </tr>\n",
       "    <tr>\n",
       "      <th>max</th>\n",
       "      <td>5.000000</td>\n",
       "      <td>17612.000000</td>\n",
       "    </tr>\n",
       "  </tbody>\n",
       "</table>\n",
       "</div>"
      ],
      "text/plain": [
       "           Ratings  No of Ratings\n",
       "count  4223.000000    4223.000000\n",
       "mean      4.046879      35.891309\n",
       "std       0.815664     319.952138\n",
       "min       1.000000       1.000000\n",
       "25%       3.695652       2.000000\n",
       "50%       4.125000       6.000000\n",
       "75%       4.600000      23.000000\n",
       "max       5.000000   17612.000000"
      ]
     },
     "execution_count": 20,
     "metadata": {},
     "output_type": "execute_result"
    }
   ],
   "source": [
    "ratings.describe()"
   ]
  },
  {
   "cell_type": "code",
   "execution_count": 21,
   "metadata": {},
   "outputs": [],
   "source": [
    "import seaborn as sns\n",
    "import matplotlib.pyplot as plt\n",
    "sns.set_style('whitegrid')\n",
    "%matplotlib inline"
   ]
  },
  {
   "cell_type": "code",
   "execution_count": 22,
   "metadata": {},
   "outputs": [
    {
     "data": {
      "text/plain": [
       "<matplotlib.axes._subplots.AxesSubplot at 0x7ff8ac8e38e0>"
      ]
     },
     "execution_count": 22,
     "metadata": {},
     "output_type": "execute_result"
    },
    {
     "data": {
      "image/png": "[encoded data removed]",
      "text/plain": [
       "<Figure size 432x288 with 1 Axes>"
      ]
     },
     "metadata": {
      "needs_background": "light"
     },
     "output_type": "display_data"
    }
   ],
   "source": [
    "ratings['Ratings'].hist(bins=50)"
   ]
  },
  {
   "cell_type": "code",
   "execution_count": 23,
   "metadata": {},
   "outputs": [
    {
     "data": {
      "text/plain": [
       "(0.0, 70.0)"
      ]
     },
     "execution_count": 23,
     "metadata": {},
     "output_type": "execute_result"
    },
    {
     "data": {
      "image/png": "[encoded data removed]",
      "text/plain": [
       "<Figure size 432x288 with 1 Axes>"
      ]
     },
     "metadata": {
      "needs_background": "light"
     },
     "output_type": "display_data"
    }
   ],
   "source": [
    "ratings['No of Ratings'].hist(bins=5000)\n",
    "plt.xlim(0,70)"
   ]
  },
  {
   "cell_type": "code",
   "execution_count": 24,
   "metadata": {},
   "outputs": [
    {
     "data": {
      "text/plain": [
       "(0.0, 70.0)"
      ]
     },
     "execution_count": 24,
     "metadata": {},
     "output_type": "execute_result"
    },
    {
     "data": {
      "image/png": "[encoded data removed]",
      "text/plain": [
       "<Figure size 720x720 with 3 Axes>"
      ]
     },
     "metadata": {
      "needs_background": "light"
     },
     "output_type": "display_data"
    }
   ],
   "source": [
    "sns.jointplot(x='Ratings',y='No of Ratings',data=ratings,alpha=0.5,height=10)\n",
    "plt.ylim(0,70)"
   ]
  },
  {
   "cell_type": "markdown",
   "metadata": {},
   "source": [
    "# Recommender 1 based on Collaborative Filtering - user score #"
   ]
  },
  {
   "cell_type": "code",
   "execution_count": 28,
   "metadata": {},
   "outputs": [],
   "source": [
    "kindle_mat=df.pivot_table(index='userId',columns='title',values='score')"
   ]
  },
  {
   "cell_type": "markdown",
   "metadata": {},
   "source": [
    "*Recommendation for users who like the book Dreams from my father*"
   ]
  },
  {
   "cell_type": "code",
   "execution_count": 37,
   "metadata": {},
   "outputs": [
    {
     "name": "stderr",
     "output_type": "stream",
     "text": [
      "/Users/abhishek/opt/anaconda3/lib/python3.8/site-packages/numpy/lib/function_base.py:2526: RuntimeWarning: Degrees of freedom <= 0 for slice\n",
      "  c = cov(x, y, rowvar)\n",
      "/Users/abhishek/opt/anaconda3/lib/python3.8/site-packages/numpy/lib/function_base.py:2455: RuntimeWarning: divide by zero encountered in true_divide\n",
      "  c *= np.true_divide(1, fact)\n"
     ]
    }
   ],
   "source": [
    "corr_Dreams_from_My_Father=pd.DataFrame(kindle_mat.corrwith(kindle_mat['Dreams from My Father']),columns=['co-relation'])"
   ]
  },
  {
   "cell_type": "code",
   "execution_count": 38,
   "metadata": {},
   "outputs": [],
   "source": [
    "corr_Dreams_from_My_Father.dropna(inplace=True)\n"
   ]
  },
  {
   "cell_type": "code",
   "execution_count": 46,
   "metadata": {},
   "outputs": [],
   "source": [
    "corr_Dreams_from_My_Father=corr_Dreams_from_My_Father.join(ratings['No of Ratings'])"
   ]
  },
  {
   "cell_type": "code",
   "execution_count": 54,
   "metadata": {},
   "outputs": [
    {
     "data": {
      "text/html": [
       "<div>\n",
       "<style scoped>\n",
       "    .dataframe tbody tr th:only-of-type {\n",
       "        vertical-align: middle;\n",
       "    }\n",
       "\n",
       "    .dataframe tbody tr th {\n",
       "        vertical-align: top;\n",
       "    }\n",
       "\n",
       "    .dataframe thead th {\n",
       "        text-align: right;\n",
       "    }\n",
       "</style>\n",
       "<table border=\"1\" class=\"dataframe\">\n",
       "  <thead>\n",
       "    <tr style=\"text-align: right;\">\n",
       "      <th></th>\n",
       "      <th>co-relation</th>\n",
       "      <th>No of Ratings</th>\n",
       "    </tr>\n",
       "    <tr>\n",
       "      <th>title</th>\n",
       "      <th></th>\n",
       "      <th></th>\n",
       "    </tr>\n",
       "  </thead>\n",
       "  <tbody>\n",
       "    <tr>\n",
       "      <th>Dreams from My Father</th>\n",
       "      <td>1.0</td>\n",
       "      <td>792</td>\n",
       "    </tr>\n",
       "    <tr>\n",
       "      <th>Kim [with Biographical Introduction]</th>\n",
       "      <td>1.0</td>\n",
       "      <td>126</td>\n",
       "    </tr>\n",
       "    <tr>\n",
       "      <th>Kim (Modern Library Classics)</th>\n",
       "      <td>1.0</td>\n",
       "      <td>126</td>\n",
       "    </tr>\n",
       "    <tr>\n",
       "      <th>Beyond Belief</th>\n",
       "      <td>1.0</td>\n",
       "      <td>178</td>\n",
       "    </tr>\n",
       "    <tr>\n",
       "      <th>Lust Lizard of Melancholy Cove (Pine Cove)</th>\n",
       "      <td>1.0</td>\n",
       "      <td>147</td>\n",
       "    </tr>\n",
       "    <tr>\n",
       "      <th>Game of Shadows</th>\n",
       "      <td>1.0</td>\n",
       "      <td>121</td>\n",
       "    </tr>\n",
       "    <tr>\n",
       "      <th>Elements of Style</th>\n",
       "      <td>1.0</td>\n",
       "      <td>36</td>\n",
       "    </tr>\n",
       "    <tr>\n",
       "      <th>Charleston</th>\n",
       "      <td>1.0</td>\n",
       "      <td>39</td>\n",
       "    </tr>\n",
       "    <tr>\n",
       "      <th>The Last Mughal</th>\n",
       "      <td>1.0</td>\n",
       "      <td>60</td>\n",
       "    </tr>\n",
       "    <tr>\n",
       "      <th>The Return of Tarzan</th>\n",
       "      <td>1.0</td>\n",
       "      <td>61</td>\n",
       "    </tr>\n",
       "    <tr>\n",
       "      <th>Faith and Politics</th>\n",
       "      <td>1.0</td>\n",
       "      <td>34</td>\n",
       "    </tr>\n",
       "    <tr>\n",
       "      <th>Any Way the Wind Blows</th>\n",
       "      <td>1.0</td>\n",
       "      <td>137</td>\n",
       "    </tr>\n",
       "    <tr>\n",
       "      <th>The Edge of Dawn</th>\n",
       "      <td>1.0</td>\n",
       "      <td>33</td>\n",
       "    </tr>\n",
       "    <tr>\n",
       "      <th>Andrew Jackson</th>\n",
       "      <td>1.0</td>\n",
       "      <td>103</td>\n",
       "    </tr>\n",
       "    <tr>\n",
       "      <th>The Terror</th>\n",
       "      <td>1.0</td>\n",
       "      <td>369</td>\n",
       "    </tr>\n",
       "    <tr>\n",
       "      <th>Helen of Troy</th>\n",
       "      <td>1.0</td>\n",
       "      <td>87</td>\n",
       "    </tr>\n",
       "    <tr>\n",
       "      <th>Winners Never Cheat</th>\n",
       "      <td>1.0</td>\n",
       "      <td>39</td>\n",
       "    </tr>\n",
       "    <tr>\n",
       "      <th>Purity of Blood (Captain Alatriste)</th>\n",
       "      <td>1.0</td>\n",
       "      <td>40</td>\n",
       "    </tr>\n",
       "    <tr>\n",
       "      <th>Oracle Bones</th>\n",
       "      <td>1.0</td>\n",
       "      <td>101</td>\n",
       "    </tr>\n",
       "    <tr>\n",
       "      <th>The Wal-Mart Effect</th>\n",
       "      <td>1.0</td>\n",
       "      <td>133</td>\n",
       "    </tr>\n",
       "  </tbody>\n",
       "</table>\n",
       "</div>"
      ],
      "text/plain": [
       "                                            co-relation  No of Ratings\n",
       "title                                                                 \n",
       "Dreams from My Father                               1.0            792\n",
       "Kim [with Biographical Introduction]                1.0            126\n",
       "Kim (Modern Library Classics)                       1.0            126\n",
       "Beyond Belief                                       1.0            178\n",
       "Lust Lizard of Melancholy Cove (Pine Cove)          1.0            147\n",
       "Game of Shadows                                     1.0            121\n",
       "Elements of Style                                   1.0             36\n",
       "Charleston                                          1.0             39\n",
       "The Last Mughal                                     1.0             60\n",
       "The Return of Tarzan                                1.0             61\n",
       "Faith and Politics                                  1.0             34\n",
       "Any Way the Wind Blows                              1.0            137\n",
       "The Edge of Dawn                                    1.0             33\n",
       "Andrew Jackson                                      1.0            103\n",
       "The Terror                                          1.0            369\n",
       "Helen of Troy                                       1.0             87\n",
       "Winners Never Cheat                                 1.0             39\n",
       "Purity of Blood (Captain Alatriste)                 1.0             40\n",
       "Oracle Bones                                        1.0            101\n",
       "The Wal-Mart Effect                                 1.0            133"
      ]
     },
     "execution_count": 54,
     "metadata": {},
     "output_type": "execute_result"
    }
   ],
   "source": [
    "corr_Dreams_from_My_Father[corr_Dreams_from_My_Father['No of Ratings']>23].sort_values('co-relation',ascending=False).head(20)"
   ]
  },
  {
   "cell_type": "markdown",
   "metadata": {},
   "source": [
    "# Recommender 2 based on Collaborative Filtering - user text review #"
   ]
  },
  {
   "cell_type": "code",
   "execution_count": 66,
   "metadata": {},
   "outputs": [
    {
     "data": {
      "text/plain": [
       "0         1.000000\n",
       "1         0.714286\n",
       "2         1.000000\n",
       "4         0.900000\n",
       "5         1.000000\n",
       "            ...   \n",
       "160788    0.800000\n",
       "160789    0.000000\n",
       "160790    0.000000\n",
       "160791    0.750000\n",
       "160792    0.000000\n",
       "Name: helpfulness, Length: 151569, dtype: float64"
      ]
     },
     "execution_count": 66,
     "metadata": {},
     "output_type": "execute_result"
    }
   ],
   "source": [
    "def convert_to_float(x):\n",
    "    if float(x.split('/')[1])==0 or float(x.split('/')[1])<3:\n",
    "            return 0\n",
    "    else:\n",
    "            return float(x.split('/')[0])/float(x.split('/')[1])\n",
    "\n",
    "        \n",
    "df.helpfulness.apply(convert_to_float)"
   ]
  },
  {
   "cell_type": "markdown",
   "metadata": {},
   "source": [
    "*continued*"
   ]
  }
 ],
 "metadata": {
  "kernelspec": {
   "display_name": "Python 3",
   "language": "python",
   "name": "python3"
  },
  "language_info": {
   "codemirror_mode": {
    "name": "ipython",
    "version": 3
   },
   "file_extension": ".py",
   "mimetype": "text/x-python",
   "name": "python",
   "nbconvert_exporter": "python",
   "pygments_lexer": "ipython3",
   "version": "3.8.3"
  }
 },
 "nbformat": 4,
 "nbformat_minor": 4
}
